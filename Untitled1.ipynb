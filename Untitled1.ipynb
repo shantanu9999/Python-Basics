{
 "cells": [
  {
   "cell_type": "code",
   "execution_count": 2,
   "metadata": {},
   "outputs": [],
   "source": [
    "num1 = 89\n",
    "sum = 0\n",
    "for value in range(1,num1):\n",
    "    if num1 % value == 0:\n",
    "        sum = sum + value\n",
    "if sum == num1:\n",
    "    print(\"Perfect number\")\n",
    "else:\n",
    "    (\"Not Perfecr number\")\n"
   ]
  }
 ],
 "metadata": {
  "kernelspec": {
   "display_name": "Python 3",
   "language": "python",
   "name": "python3"
  },
  "language_info": {
   "codemirror_mode": {
    "name": "ipython",
    "version": 3
   },
   "file_extension": ".py",
   "mimetype": "text/x-python",
   "name": "python",
   "nbconvert_exporter": "python",
   "pygments_lexer": "ipython3",
   "version": "3.7.8"
  }
 },
 "nbformat": 4,
 "nbformat_minor": 2
}
