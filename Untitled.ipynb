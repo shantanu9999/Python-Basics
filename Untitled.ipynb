{
 "cells": [
  {
   "cell_type": "code",
   "execution_count": 2,
   "metadata": {},
   "outputs": [
    {
     "name": "stdout",
     "output_type": "stream",
     "text": [
      "2\n"
     ]
    }
   ],
   "source": [
    "a = 2\n",
    "print(a)"
   ]
  },
  {
   "cell_type": "code",
   "execution_count": null,
   "metadata": {},
   "outputs": [],
   "source": []
  },
  {
   "cell_type": "code",
   "execution_count": null,
   "metadata": {},
   "outputs": [],
   "source": []
  },
  {
   "cell_type": "code",
   "execution_count": null,
   "metadata": {},
   "outputs": [],
   "source": []
  },
  {
   "cell_type": "code",
   "execution_count": null,
   "metadata": {},
   "outputs": [],
   "source": []
  },
  {
   "cell_type": "code",
   "execution_count": 3,
   "metadata": {},
   "outputs": [
    {
     "name": "stdout",
     "output_type": "stream",
     "text": [
      "2\n"
     ]
    }
   ],
   "source": [
    "b = 2\n",
    "print(b)"
   ]
  },
  {
   "cell_type": "code",
   "execution_count": null,
   "metadata": {},
   "outputs": [],
   "source": [
    "we want to add two digit we want answer"
   ]
  },
  {
   "cell_type": "code",
   "execution_count": 4,
   "metadata": {},
   "outputs": [
    {
     "name": "stdout",
     "output_type": "stream",
     "text": [
      "1100\n"
     ]
    }
   ],
   "source": [
    "digit1 = 500\n",
    "digit2 = 600\n",
    "answer = digit1 + digit2\n",
    "\n",
    "print(answer)"
   ]
  },
  {
   "cell_type": "code",
   "execution_count": null,
   "metadata": {},
   "outputs": [],
   "source": [
    "add four digit and get output"
   ]
  },
  {
   "cell_type": "code",
   "execution_count": 5,
   "metadata": {},
   "outputs": [
    {
     "name": "stdout",
     "output_type": "stream",
     "text": [
      "<type 'int'>\n"
     ]
    }
   ],
   "source": [
    "a = 20\n",
    "print(type(a))"
   ]
  },
  {
   "cell_type": "code",
   "execution_count": 6,
   "metadata": {},
   "outputs": [
    {
     "name": "stdout",
     "output_type": "stream",
     "text": [
      "<type 'str'>\n"
     ]
    }
   ],
   "source": [
    "b = \"HI PYTHON\"\n",
    "print(type(b))"
   ]
  },
  {
   "cell_type": "code",
   "execution_count": 7,
   "metadata": {},
   "outputs": [
    {
     "name": "stdout",
     "output_type": "stream",
     "text": [
      "<type 'float'>\n"
     ]
    }
   ],
   "source": [
    "c = 65.78\n",
    "print(type(c))"
   ]
  },
  {
   "cell_type": "code",
   "execution_count": 1,
   "metadata": {},
   "outputs": [
    {
     "name": "stdout",
     "output_type": "stream",
     "text": [
      "44263144\n"
     ]
    }
   ],
   "source": [
    "e = 89\n",
    "print(id(e))"
   ]
  },
  {
   "cell_type": "code",
   "execution_count": 2,
   "metadata": {},
   "outputs": [
    {
     "name": "stdout",
     "output_type": "stream",
     "text": [
      "<type 'dict'>\n"
     ]
    }
   ],
   "source": [
    "d = {\"name\":\"john\",\"lastname\":\"clay\",\"contactno\":8989898989}\n",
    "print(type(d))"
   ]
  },
  {
   "cell_type": "code",
   "execution_count": 7,
   "metadata": {},
   "outputs": [
    {
     "name": "stdout",
     "output_type": "stream",
     "text": [
      "44260816\n",
      "44262328\n",
      "70\n"
     ]
    }
   ],
   "source": [
    "a = b\n",
    "print(id(a))\n",
    "a = 40\n",
    "b = 30\n",
    "print(id(a))\n",
    "c= a+b\n",
    "print(c)"
   ]
  },
  {
   "cell_type": "code",
   "execution_count": 11,
   "metadata": {},
   "outputs": [
    {
     "name": "stdout",
     "output_type": "stream",
     "text": [
      "77677064\n",
      "[10, 20, 30, 40, 50]\n",
      "77677064\n"
     ]
    }
   ],
   "source": [
    "s = [10,20,30,40]\n",
    "print(id(s))\n",
    "s.append(50)\n",
    "print(s)\n",
    "print(id(s))"
   ]
  },
  {
   "cell_type": "code",
   "execution_count": null,
   "metadata": {},
   "outputs": [],
   "source": [
    "DATA TYPE IN PYTHON\n",
    "\n",
    "int = 10 \n",
    "str = \"HI\"  'Python' '''PYTHON'''\n",
    "float = 45.12  \n",
    "list = [45,56,56,\"java\",\"Ptython\",\"C++\",60.20]\n",
    "tuple = (1,2,3,\"ruby\")\n",
    "dict={\"name\":\"john\",\"contactno\":7894561235}\n",
    "set={12,56,45,8,9}\n",
    "bool =  True  False\n",
    "\n",
    "\n",
    "MUTABLE AND IMMUTABLE DATA TYPES\n",
    "\n",
    "MUTABLE : list, dict,set \n",
    "    \n",
    "IMMUTABLE : int,str,float,tuple"
   ]
  },
  {
   "cell_type": "code",
   "execution_count": null,
   "metadata": {},
   "outputs": [],
   "source": []
  },
  {
   "cell_type": "code",
   "execution_count": null,
   "metadata": {},
   "outputs": [],
   "source": [
    "OPERATORS\n",
    "\n",
    "1.Arithmetic Operators\n",
    "+ , - , *,/ ,**,//,%\n",
    "\n",
    "+ Addition Operator\n",
    "- Substraction Operator\n",
    "* Multiplication\n",
    "/ true division\n",
    "** power\n",
    "// floor division\n",
    "% remainder\n",
    "\n",
    "2.Comparision Operators\n",
    "\n",
    "== \n",
    "<\n",
    ">\n",
    "<=\n",
    ">=\n",
    "!=\n",
    "\n",
    "3.Identity Operator\n",
    "is\n",
    "is not\n",
    "\n",
    "4.Assignment Operator\n",
    "\n",
    "=\n",
    "+=\n",
    "-=\n",
    "*=\n",
    "/=\n",
    "\n",
    "4.Logical Operators\n",
    "\n",
    "and \n",
    "or\n",
    "not\n",
    "\n",
    "5.Membership Operators\n",
    "\n",
    "in\n",
    "not in\n",
    "\n",
    "6 Bitwise OPERATOR\n",
    "\n",
    "&  AND\n",
    "|  OR\n",
    "^ XOR\n",
    "~ compliment\n",
    "<< Binary left shift\n",
    ">> Binary right shift"
   ]
  },
  {
   "cell_type": "code",
   "execution_count": 2,
   "metadata": {},
   "outputs": [
    {
     "name": "stdout",
     "output_type": "stream",
     "text": [
      "45443304\n",
      "45443064\n"
     ]
    }
   ],
   "source": [
    "a = 50\n",
    "print(id(a))\n",
    "a =60\n",
    "print(id(a))\n"
   ]
  },
  {
   "cell_type": "code",
   "execution_count": 8,
   "metadata": {},
   "outputs": [
    {
     "name": "stdout",
     "output_type": "stream",
     "text": [
      "79774728\n",
      "[10, 2, 30, 40]\n",
      "[10, 2, 30, 40, 85]\n",
      "79774728\n"
     ]
    }
   ],
   "source": [
    "b = [10,2,30,40]\n",
    "print(id(b))\n",
    "print(b)\n",
    "b.append(85)\n",
    "print(b)\n",
    "print(id(b))"
   ]
  },
  {
   "cell_type": "code",
   "execution_count": 7,
   "metadata": {},
   "outputs": [
    {
     "name": "stdout",
     "output_type": "stream",
     "text": [
      "73185792\n",
      "73163808\n"
     ]
    }
   ],
   "source": [
    "p = 50.60\n",
    "print(id(p))\n",
    "p = 89.1\n",
    "print(id(p))\n",
    "\n",
    "\n"
   ]
  },
  {
   "cell_type": "code",
   "execution_count": 10,
   "metadata": {},
   "outputs": [
    {
     "name": "stdout",
     "output_type": "stream",
     "text": [
      "50\n",
      "HI PYTHON\n"
     ]
    }
   ],
   "source": [
    "a = 50\n",
    "print(a)\n",
    "a = \"HI PYTHON\"\n",
    "print(a)"
   ]
  },
  {
   "cell_type": "code",
   "execution_count": 16,
   "metadata": {},
   "outputs": [
    {
     "name": "stdout",
     "output_type": "stream",
     "text": [
      "john\n"
     ]
    }
   ],
   "source": [
    "_name54 = \"john\"\n",
    "print(_name)\n"
   ]
  },
  {
   "cell_type": "code",
   "execution_count": null,
   "metadata": {},
   "outputs": [],
   "source": [
    "1.Arithmetic Operators\n",
    "+ , - , *,/ ,**,//,%\n",
    "\n",
    "+ Addition Operator\n",
    "- Substraction Operator\n",
    "* Multiplication\n",
    "/ true division\n",
    "** power\n",
    "// floor division\n",
    "% remainder"
   ]
  },
  {
   "cell_type": "code",
   "execution_count": null,
   "metadata": {},
   "outputs": [],
   "source": []
  },
  {
   "cell_type": "code",
   "execution_count": 17,
   "metadata": {},
   "outputs": [
    {
     "name": "stdout",
     "output_type": "stream",
     "text": [
      "150\n"
     ]
    }
   ],
   "source": [
    "num1 = 50\n",
    "num2 = 100\n",
    "total = num1 + num2\n",
    "print(total)"
   ]
  },
  {
   "cell_type": "code",
   "execution_count": 18,
   "metadata": {},
   "outputs": [
    {
     "name": "stdout",
     "output_type": "stream",
     "text": [
      "-50\n"
     ]
    }
   ],
   "source": [
    "num1 = 50\n",
    "num2 = 100\n",
    "total = num1 - num2\n",
    "print(total)"
   ]
  },
  {
   "cell_type": "code",
   "execution_count": 19,
   "metadata": {},
   "outputs": [
    {
     "name": "stdout",
     "output_type": "stream",
     "text": [
      "5000\n"
     ]
    }
   ],
   "source": [
    "num1 = 50\n",
    "num2 = 100\n",
    "total = num1 * num2\n",
    "print(total)"
   ]
  },
  {
   "cell_type": "code",
   "execution_count": 31,
   "metadata": {},
   "outputs": [
    {
     "name": "stdout",
     "output_type": "stream",
     "text": [
      "4\n"
     ]
    }
   ],
   "source": [
    "num1 = 100\n",
    "num2 = 23\n",
    "total = num1 / num2\n",
    "print(total)"
   ]
  },
  {
   "cell_type": "code",
   "execution_count": 34,
   "metadata": {},
   "outputs": [
    {
     "name": "stdout",
     "output_type": "stream",
     "text": [
      "4\n"
     ]
    }
   ],
   "source": [
    "num1 = 100\n",
    "num2 = 23\n",
    "total = num1//num2\n",
    "print(total)"
   ]
  },
  {
   "cell_type": "code",
   "execution_count": 37,
   "metadata": {},
   "outputs": [
    {
     "name": "stdout",
     "output_type": "stream",
     "text": [
      "64\n"
     ]
    }
   ],
   "source": [
    "a = 4\n",
    "b = 3\n",
    "power = a**b\n",
    "print(power)"
   ]
  },
  {
   "cell_type": "code",
   "execution_count": 38,
   "metadata": {},
   "outputs": [
    {
     "name": "stdout",
     "output_type": "stream",
     "text": [
      "2\n"
     ]
    }
   ],
   "source": [
    "a = 20\n",
    "b = 3\n",
    "rem = a%b\n",
    "print(rem)"
   ]
  },
  {
   "cell_type": "code",
   "execution_count": 41,
   "metadata": {},
   "outputs": [
    {
     "name": "stdout",
     "output_type": "stream",
     "text": [
      "HIPython\n"
     ]
    }
   ],
   "source": [
    "a = \"HI\"\n",
    "b = \"Python\"\n",
    "rem = a+b\n",
    "print(rem)"
   ]
  },
  {
   "cell_type": "code",
   "execution_count": null,
   "metadata": {},
   "outputs": [],
   "source": [
    "Calculate circumference of circle having radius 20     hint : c = 2(3.14) r"
   ]
  },
  {
   "cell_type": "code",
   "execution_count": 42,
   "metadata": {},
   "outputs": [
    {
     "name": "stdout",
     "output_type": "stream",
     "text": [
      "3.29252864e+26\n"
     ]
    }
   ],
   "source": [
    "pi=3.14\n",
    "r=20\n",
    "res=pi*r ** r\n",
    "print (res)"
   ]
  },
  {
   "cell_type": "code",
   "execution_count": 44,
   "metadata": {},
   "outputs": [
    {
     "name": "stdout",
     "output_type": "stream",
     "text": [
      "125.6\n"
     ]
    }
   ],
   "source": [
    "radius = 20\n",
    "circumference = 2*(3.14)*radius\n",
    "print(circumference)"
   ]
  },
  {
   "cell_type": "code",
   "execution_count": 3,
   "metadata": {},
   "outputs": [
    {
     "name": "stdout",
     "output_type": "stream",
     "text": [
      "140705557089648\n",
      "140705557090288\n"
     ]
    }
   ],
   "source": [
    "a = 100\n",
    "print(id(a))\n",
    "a = 120\n",
    "print(id(a))\n",
    " \n"
   ]
  },
  {
   "cell_type": "code",
   "execution_count": 12,
   "metadata": {},
   "outputs": [
    {
     "name": "stdout",
     "output_type": "stream",
     "text": [
      "True\n"
     ]
    }
   ],
   "source": [
    "s1 = 50\n",
    "s2 = 60\n",
    "print(s1 != s2)"
   ]
  },
  {
   "cell_type": "code",
   "execution_count": null,
   "metadata": {},
   "outputs": [],
   "source": [
    "Membership operator \n",
    "in \n",
    "not in\n"
   ]
  },
  {
   "cell_type": "code",
   "execution_count": 13,
   "metadata": {},
   "outputs": [
    {
     "ename": "TypeError",
     "evalue": "argument of type 'int' is not iterable",
     "output_type": "error",
     "traceback": [
      "\u001b[1;31m---------------------------------------------------------------------------\u001b[0m",
      "\u001b[1;31mTypeError\u001b[0m                                 Traceback (most recent call last)",
      "\u001b[1;32m<ipython-input-13-3c88053b5764>\u001b[0m in \u001b[0;36m<module>\u001b[1;34m\u001b[0m\n\u001b[1;32m----> 1\u001b[1;33m \u001b[0mprint\u001b[0m\u001b[1;33m(\u001b[0m\u001b[1;36m5\u001b[0m \u001b[1;32min\u001b[0m \u001b[1;36m500\u001b[0m\u001b[1;33m)\u001b[0m\u001b[1;33m\u001b[0m\u001b[1;33m\u001b[0m\u001b[0m\n\u001b[0m",
      "\u001b[1;31mTypeError\u001b[0m: argument of type 'int' is not iterable"
     ]
    }
   ],
   "source": [
    "print(5 in 500)"
   ]
  },
  {
   "cell_type": "code",
   "execution_count": null,
   "metadata": {},
   "outputs": [],
   "source": [
    "iterable data types\n",
    "str,tuple,dict,list,set\n",
    "\n",
    "not iterable datatypes\n",
    "int,float"
   ]
  },
  {
   "cell_type": "code",
   "execution_count": 15,
   "metadata": {},
   "outputs": [
    {
     "name": "stdout",
     "output_type": "stream",
     "text": [
      "False\n"
     ]
    }
   ],
   "source": [
    "l = [10,20,30,40]\n",
    "print(20 not in l)"
   ]
  },
  {
   "cell_type": "raw",
   "metadata": {},
   "source": []
  },
  {
   "cell_type": "code",
   "execution_count": 22,
   "metadata": {},
   "outputs": [
    {
     "name": "stdout",
     "output_type": "stream",
     "text": [
      "False\n"
     ]
    }
   ],
   "source": [
    "d = {1:200,2:200,3:300}\n",
    "print(3 not in d)"
   ]
  },
  {
   "cell_type": "code",
   "execution_count": null,
   "metadata": {
    "collapsed": true
   },
   "outputs": [],
   "source": [
    "note:\n",
    "    in not in  will not work with int, float.\n",
    "    in case if dict in /not in only check withkeys, will not check with the values."
   ]
  },
  {
   "cell_type": "code",
   "execution_count": null,
   "metadata": {},
   "outputs": [],
   "source": [
    "IDENTITY OPERATOR:\n",
    "    is\n",
    "    is not"
   ]
  },
  {
   "cell_type": "markdown",
   "metadata": {},
   "source": [
    "num1 = 100\n",
    "num2 = 200\n",
    "print(num1 == num2)"
   ]
  },
  {
   "cell_type": "code",
   "execution_count": 28,
   "metadata": {},
   "outputs": [
    {
     "name": "stdout",
     "output_type": "stream",
     "text": [
      "False\n",
      "False\n"
     ]
    }
   ],
   "source": [
    "num1 = 255\n",
    "num2 = 100\n",
    "print(num1 == num2)\n",
    "print(num1 is num2)"
   ]
  },
  {
   "cell_type": "code",
   "execution_count": null,
   "metadata": {},
   "outputs": [],
   "source": [
    "python memory optimisation \n",
    "0 - 256"
   ]
  },
  {
   "cell_type": "code",
   "execution_count": 31,
   "metadata": {},
   "outputs": [
    {
     "name": "stdout",
     "output_type": "stream",
     "text": [
      "False\n"
     ]
    }
   ],
   "source": [
    "num1 = 600\n",
    "num2 = 600\n",
    "print(num1 is num2)"
   ]
  },
  {
   "cell_type": "code",
   "execution_count": 33,
   "metadata": {},
   "outputs": [
    {
     "name": "stdout",
     "output_type": "stream",
     "text": [
      "True\n"
     ]
    }
   ],
   "source": [
    "l1 = [10,20,30,40]\n",
    "l2 = [10,20,30,40]\n",
    "\n",
    "print(l1 is not l2)"
   ]
  },
  {
   "cell_type": "code",
   "execution_count": null,
   "metadata": {},
   "outputs": [],
   "source": [
    "== compare values\n",
    "is compare memory location"
   ]
  },
  {
   "cell_type": "code",
   "execution_count": null,
   "metadata": {},
   "outputs": [],
   "source": [
    "Asignment operator\n",
    "\n",
    "=\n",
    "+=\n",
    "-=\n",
    "*=\n",
    "/="
   ]
  },
  {
   "cell_type": "code",
   "execution_count": 41,
   "metadata": {},
   "outputs": [
    {
     "name": "stdout",
     "output_type": "stream",
     "text": [
      "50.0\n"
     ]
    }
   ],
   "source": [
    "num1 = 20\n",
    "num1 += 30\n",
    "num1 = num1 + 30\n",
    "num1 -= 30\n",
    "num1 *= 2\n",
    "num1 /= 2\n",
    "print(num1)"
   ]
  },
  {
   "cell_type": "code",
   "execution_count": null,
   "metadata": {},
   "outputs": [],
   "source": [
    "Logical Operators\n",
    "\n",
    "and \n",
    "or\n",
    "not"
   ]
  },
  {
   "cell_type": "code",
   "execution_count": 42,
   "metadata": {},
   "outputs": [
    {
     "name": "stdout",
     "output_type": "stream",
     "text": [
      "False\n"
     ]
    }
   ],
   "source": [
    "print(100 == 100 and 100 != 100)"
   ]
  },
  {
   "cell_type": "code",
   "execution_count": 43,
   "metadata": {},
   "outputs": [
    {
     "name": "stdout",
     "output_type": "stream",
     "text": [
      "True\n"
     ]
    }
   ],
   "source": [
    "print(100 == 100 or 100 != 100)"
   ]
  },
  {
   "cell_type": "code",
   "execution_count": 46,
   "metadata": {},
   "outputs": [
    {
     "ename": "SyntaxError",
     "evalue": "invalid syntax (<ipython-input-46-884aa0178373>, line 1)",
     "output_type": "error",
     "traceback": [
      "\u001b[1;36m  File \u001b[1;32m\"<ipython-input-46-884aa0178373>\"\u001b[1;36m, line \u001b[1;32m1\u001b[0m\n\u001b[1;33m    print(100 == 100 not 100 != 100)\u001b[0m\n\u001b[1;37m                           ^\u001b[0m\n\u001b[1;31mSyntaxError\u001b[0m\u001b[1;31m:\u001b[0m invalid syntax\n"
     ]
    }
   ],
   "source": [
    "print(100 == 100 not 100 != 100)"
   ]
  },
  {
   "cell_type": "code",
   "execution_count": null,
   "metadata": {},
   "outputs": [],
   "source": [
    "TRUE OR FALSE\n",
    "\n",
    "Membership operators\n",
    "Logical operators\n",
    "Identity Operator\n",
    "comparision operators"
   ]
  },
  {
   "cell_type": "code",
   "execution_count": 1,
   "metadata": {},
   "outputs": [
    {
     "name": "stdout",
     "output_type": "stream",
     "text": [
      "1800\n"
     ]
    }
   ],
   "source": [
    "l=30\n",
    "w=60\n",
    "area=l*w\n",
    "print(area)"
   ]
  },
  {
   "cell_type": "code",
   "execution_count": 3,
   "metadata": {},
   "outputs": [
    {
     "name": "stdout",
     "output_type": "stream",
     "text": [
      "95.030375\n"
     ]
    }
   ],
   "source": [
    "r=5.5\n",
    "pi=3.1415\n",
    "area=pi*(r**2)\n",
    "print(area)"
   ]
  },
  {
   "cell_type": "code",
   "execution_count": 4,
   "metadata": {},
   "outputs": [
    {
     "name": "stdout",
     "output_type": "stream",
     "text": [
      "True\n"
     ]
    }
   ],
   "source": [
    "student=[\"john\",\"jack\",\"ron\"]\n",
    "print(\"jack\" in student)"
   ]
  },
  {
   "cell_type": "code",
   "execution_count": 5,
   "metadata": {},
   "outputs": [
    {
     "name": "stdout",
     "output_type": "stream",
     "text": [
      "52.0\n"
     ]
    }
   ],
   "source": [
    "# score=78\n",
    "# total=150\n",
    "# per=(score/total)*100\n",
    "# print(per)"
   ]
  },
  {
   "cell_type": "markdown",
   "metadata": {},
   "source": [
    "comments in python\n",
    "\n",
    " single line comment  #int = 2\n",
    " multiline comment  cntrl + /"
   ]
  },
  {
   "cell_type": "code",
   "execution_count": null,
   "metadata": {},
   "outputs": [],
   "source": [
    "\n",
    "\n",
    "= and ==\n",
    "\n",
    "== and is\n",
    "\n",
    "type()\n",
    "id()\n"
   ]
  },
  {
   "cell_type": "code",
   "execution_count": null,
   "metadata": {},
   "outputs": [],
   "source": [
    "Conditional statements and looping statements\n",
    "if \n",
    "elif\n",
    "else"
   ]
  },
  {
   "cell_type": "code",
   "execution_count": null,
   "metadata": {},
   "outputs": [],
   "source": [
    "if [condition]:\n",
    "logical operator\n",
    "comparision operator\n",
    "membership operator\n",
    "indentity opeartor\n"
   ]
  },
  {
   "cell_type": "markdown",
   "metadata": {},
   "source": [
    "num1 = 200\n",
    "num2 = 200\n",
    "if "
   ]
  },
  {
   "cell_type": "code",
   "execution_count": 12,
   "metadata": {},
   "outputs": [
    {
     "name": "stdout",
     "output_type": "stream",
     "text": [
      "num1 is greater than num2\n",
      "num1 is first value\n"
     ]
    }
   ],
   "source": [
    "num1 = 500\n",
    "num2 = 200\n",
    "if num1 > num2:\n",
    "    print(\"num1 is greater than num2\")\n",
    "    print(\"num1 is first value\")\n",
    "elif num2 > num1:\n",
    "    print(\"num2 is greater than num1\")\n",
    "else:\n",
    "    print(\"Both values are same\")\n",
    "    "
   ]
  },
  {
   "cell_type": "code",
   "execution_count": null,
   "metadata": {},
   "outputs": [],
   "source": [
    "PEP 8 "
   ]
  },
  {
   "cell_type": "code",
   "execution_count": null,
   "metadata": {},
   "outputs": [],
   "source": [
    "char = 'a'\n",
    "(vowel or consonent)"
   ]
  },
  {
   "cell_type": "code",
   "execution_count": 13,
   "metadata": {},
   "outputs": [
    {
     "name": "stdout",
     "output_type": "stream",
     "text": [
      "a is consonent\n"
     ]
    }
   ],
   "source": [
    "vowel=[\"a\",\"e\",\"i\",\"o\",\"u\"]\n",
    "str=\"a\"\n",
    "if \"str\" in vowel:\n",
    "    print(str + \" is vowel\")\n",
    "else:\n",
    "    print(str + \" is consonent\")\n"
   ]
  },
  {
   "cell_type": "code",
   "execution_count": 14,
   "metadata": {},
   "outputs": [
    {
     "ename": "SyntaxError",
     "evalue": "invalid syntax (<ipython-input-14-37dd65f96e12>, line 1)",
     "output_type": "error",
     "traceback": [
      "\u001b[1;36m  File \u001b[1;32m\"<ipython-input-14-37dd65f96e12>\"\u001b[1;36m, line \u001b[1;32m1\u001b[0m\n\u001b[1;33m    if Vowel=a,e,i,o,u:\u001b[0m\n\u001b[1;37m            ^\u001b[0m\n\u001b[1;31mSyntaxError\u001b[0m\u001b[1;31m:\u001b[0m invalid syntax\n"
     ]
    }
   ],
   "source": [
    "if Vowel=a,e,i,o,u:\n",
    "    Print(\"char is vowel\") \n",
    "else:\n",
    "    Print(\"char is consonent\")"
   ]
  },
  {
   "cell_type": "code",
   "execution_count": 17,
   "metadata": {},
   "outputs": [
    {
     "name": "stdout",
     "output_type": "stream",
     "text": [
      "vowel\n"
     ]
    }
   ],
   "source": [
    "char ='u'\n",
    "if char in 'aeiou':\n",
    "    print(\"vowel\")\n",
    "else:\n",
    "    print(\"consonent\")"
   ]
  },
  {
   "cell_type": "code",
   "execution_count": 22,
   "metadata": {},
   "outputs": [
    {
     "name": "stdout",
     "output_type": "stream",
     "text": [
      "hi\n"
     ]
    }
   ],
   "source": [
    "if \" \":\n",
    "    print(\"hi\")\n",
    "else:\n",
    "    print(\"Python\")"
   ]
  },
  {
   "cell_type": "code",
   "execution_count": null,
   "metadata": {},
   "outputs": [],
   "source": [
    "Any non zero value in python is TRUE\n",
    "and any zero value in python is FALSE   0,\" \",[ ],( ),{ },None"
   ]
  },
  {
   "cell_type": "code",
   "execution_count": 28,
   "metadata": {},
   "outputs": [
    {
     "name": "stdout",
     "output_type": "stream",
     "text": [
      "str is empty\n"
     ]
    }
   ],
   "source": [
    "l = \"\"\n",
    "if l:\n",
    "    print(\"str is not empty\")\n",
    "else:\n",
    "    print(\"str is empty\")\n"
   ]
  },
  {
   "cell_type": "code",
   "execution_count": 29,
   "metadata": {},
   "outputs": [
    {
     "name": "stdout",
     "output_type": "stream",
     "text": [
      "3\n"
     ]
    }
   ],
   "source": [
    "l = [10,20,30]\n",
    "print(len(l))"
   ]
  },
  {
   "cell_type": "code",
   "execution_count": 31,
   "metadata": {},
   "outputs": [
    {
     "name": "stdout",
     "output_type": "stream",
     "text": [
      "list is not empty\n"
     ]
    }
   ],
   "source": [
    "l = [10,20,30]\n",
    "if len(l)>0:\n",
    "    print(\"list is not empty\")\n",
    "else:\n",
    "    print(\"list is empty\")"
   ]
  },
  {
   "cell_type": "code",
   "execution_count": null,
   "metadata": {},
   "outputs": [],
   "source": [
    "marks_obtained = 300\n",
    "total_mark = 500\n",
    "40% to pass else fail"
   ]
  },
  {
   "cell_type": "code",
   "execution_count": 35,
   "metadata": {},
   "outputs": [
    {
     "name": "stdout",
     "output_type": "stream",
     "text": [
      "fail\n"
     ]
    }
   ],
   "source": [
    "mark=200\n",
    "total=500\n",
    "if ((mark/total)*100)>40:\n",
    "    print(\"pass\")\n",
    "else:\n",
    "    print(\"fail\")\n"
   ]
  },
  {
   "cell_type": "code",
   "execution_count": 37,
   "metadata": {},
   "outputs": [
    {
     "name": "stdout",
     "output_type": "stream",
     "text": [
      "pass\n"
     ]
    }
   ],
   "source": [
    "obtained_mark = 300\n",
    "total = 500\n",
    "passing_per = 40\n",
    "if ((obtained_mark/total)*100)>=passing_per:\n",
    "    print(\"pass\")\n",
    "else: \n",
    "    print(\"fail\")"
   ]
  },
  {
   "cell_type": "code",
   "execution_count": null,
   "metadata": {},
   "outputs": [],
   "source": [
    "num1 = 45"
   ]
  },
  {
   "cell_type": "code",
   "execution_count": 38,
   "metadata": {},
   "outputs": [
    {
     "ename": "SyntaxError",
     "evalue": "invalid syntax (<ipython-input-38-c527c80c2e61>, line 2)",
     "output_type": "error",
     "traceback": [
      "\u001b[1;36m  File \u001b[1;32m\"<ipython-input-38-c527c80c2e61>\"\u001b[1;36m, line \u001b[1;32m2\u001b[0m\n\u001b[1;33m    if (num1/2)=int:\u001b[0m\n\u001b[1;37m               ^\u001b[0m\n\u001b[1;31mSyntaxError\u001b[0m\u001b[1;31m:\u001b[0m invalid syntax\n"
     ]
    }
   ],
   "source": [
    "num1 = 45\n",
    "if (num1/2)=int:\n",
    "      print(\"even\")\n",
    "else:\n",
    "      print(\"odd\")"
   ]
  },
  {
   "cell_type": "code",
   "execution_count": 39,
   "metadata": {},
   "outputs": [
    {
     "name": "stdout",
     "output_type": "stream",
     "text": [
      "odd number\n"
     ]
    }
   ],
   "source": [
    "num = 45\n",
    "ans = num % 2\n",
    "if ans:\n",
    "    print(\"odd number\")\n",
    "else:\n",
    "    print(\"even number\")"
   ]
  },
  {
   "cell_type": "markdown",
   "metadata": {},
   "source": []
  },
  {
   "cell_type": "code",
   "execution_count": 40,
   "metadata": {},
   "outputs": [
    {
     "name": "stdout",
     "output_type": "stream",
     "text": [
      "Odd\n"
     ]
    }
   ],
   "source": [
    "num1 = 45\n",
    "if num1 % 2 == 0:\n",
    "    print(\"Even\")\n",
    "else:\n",
    "    print(\"Odd\")"
   ]
  },
  {
   "cell_type": "code",
   "execution_count": null,
   "metadata": {},
   "outputs": [],
   "source": [
    "currencies = 2000,500,100,50,10\n",
    "amount = 1999"
   ]
  },
  {
   "cell_type": "code",
   "execution_count": 45,
   "metadata": {},
   "outputs": [
    {
     "name": "stdout",
     "output_type": "stream",
     "text": [
      "2\n"
     ]
    }
   ],
   "source": [
    "print(5560 // 2000)"
   ]
  },
  {
   "cell_type": "code",
   "execution_count": 47,
   "metadata": {},
   "outputs": [
    {
     "ename": "SyntaxError",
     "evalue": "invalid syntax (<ipython-input-47-3863f20d15eb>, line 4)",
     "output_type": "error",
     "traceback": [
      "\u001b[1;36m  File \u001b[1;32m\"<ipython-input-47-3863f20d15eb>\"\u001b[1;36m, line \u001b[1;32m4\u001b[0m\n\u001b[1;33m    print(\"Notes of 2000 are \"cost // 2000)\u001b[0m\n\u001b[1;37m                                 ^\u001b[0m\n\u001b[1;31mSyntaxError\u001b[0m\u001b[1;31m:\u001b[0m invalid syntax\n"
     ]
    }
   ],
   "source": [
    "cost = 5560\n",
    "\n",
    "if amount >= 2000:\n",
    "    print(\"Notes of 2000 are \"cost // 2000)\n",
    "else:\n",
    "    print(\" can not issue the notes of 2000\")"
   ]
  },
  {
   "cell_type": "code",
   "execution_count": 53,
   "metadata": {},
   "outputs": [
    {
     "name": "stdout",
     "output_type": "stream",
     "text": [
      "issue note of 2000 2\n",
      "issue note of 500 3\n",
      "can not issue notes\n",
      "issue note of 50 1\n",
      "issue note of 10 1\n"
     ]
    }
   ],
   "source": [
    "amount = 5560\n",
    "\n",
    "if amount >= 2000:\n",
    "    print(\"issue note of 2000\",amount//2000)\n",
    "    amount = amount % 2000\n",
    "else:\n",
    "    print(\"can not issue notes\")\n",
    "if amount >= 500:\n",
    "    print(\"issue note of 500\",amount//500)\n",
    "    amount = amount % 500\n",
    "else:\n",
    "    print(\"can not issue notes\")\n",
    "if amount >= 100:\n",
    "    print(\"issue note of 100\",amount//100)\n",
    "    amount = amount % 100\n",
    "else:\n",
    "    print(\"can not issue notes\")\n",
    "if amount >= 50:\n",
    "    print(\"issue note of 50\",amount//50)\n",
    "    amount = amount % 50\n",
    "else:\n",
    "    print(\"can not issue notes\")\n",
    "if amount >= 10:\n",
    "    print(\"issue note of 10\",amount//10)\n",
    "    amount = amount % 10\n",
    "else:\n",
    "    print(\"can not issue notes\")"
   ]
  },
  {
   "cell_type": "code",
   "execution_count": null,
   "metadata": {},
   "outputs": [],
   "source": [
    "rating = (1-5)\n",
    "tip % of total bill\n",
    "\n",
    "1 10\n",
    "2 20\n",
    "3 30\n",
    "4 40\n",
    "5 50\n",
    "bill_amount = 1000 "
   ]
  },
  {
   "cell_type": "code",
   "execution_count": null,
   "metadata": {},
   "outputs": [],
   "source": [
    "bill = 1000\n",
    "rate = 2\n",
    "\n",
    "if 1 in rate:\n",
    "    bill = bill + (10/100)* bill\n",
    "    print(\"bill is :\",bill)\n",
    "else:\n",
    "    print(\"bill is\",bill)\n",
    "if 2 in rate:\n",
    "    bill = bill + (20/100)* bill\n",
    "    print(\"bill is :\",bill)\n",
    "else:\n",
    "    print(\"bill is\",bill)\n",
    "if 3 in rate:\n",
    "    bill = bill + (30/100)* bill\n",
    "    print(\"bill is :\",bill)\n",
    "else:\n",
    "    print(\"bill is\",bill)\n",
    "if 4 in rate:\n",
    "    bill = bill + (40/100)* bill\n",
    "    print(\"bill is :\",bill)\n",
    "else:\n",
    "    print(\"bill is\",bill)\n",
    "if 5 in rate:\n",
    "    bill = bill + (50/100)* bi\n",
    "missing part\n",
    "if 5 in rate:\n",
    "    bill = bill + (50/100)* bill\n",
    "    print(\"bill is :\",bill)\n",
    "else:\n",
    "    print(\"bill is\",bill)"
   ]
  },
  {
   "cell_type": "code",
   "execution_count": 3,
   "metadata": {},
   "outputs": [
    {
     "name": "stdout",
     "output_type": "stream",
     "text": [
      "5\n",
      "1500\n"
     ]
    }
   ],
   "source": [
    "rating = int(input())\n",
    "bill_amount = 1000\n",
    "tip = bill_amount * (rating * 10)//100\n",
    "final_amount  = bill_amount + tip\n",
    "\n",
    "print(final_amount)\n"
   ]
  },
  {
   "cell_type": "code",
   "execution_count": null,
   "metadata": {},
   "outputs": [],
   "source": [
    "looping statements :\n",
    "    for\n",
    "    while"
   ]
  },
  {
   "cell_type": "code",
   "execution_count": null,
   "metadata": {},
   "outputs": [],
   "source": [
    "l = [10,20,30,40]\n",
    "for [userdefined_variable] in [iterable_datatype]:\n",
    "    [statement]\n",
    "[outer_statement]"
   ]
  },
  {
   "cell_type": "code",
   "execution_count": 4,
   "metadata": {},
   "outputs": [
    {
     "name": "stdout",
     "output_type": "stream",
     "text": [
      "20\n",
      "40\n",
      "60\n",
      "80\n"
     ]
    }
   ],
   "source": [
    "l = [10,20,30,40]\n",
    "for value in  l:\n",
    "    print(2 * value)"
   ]
  },
  {
   "cell_type": "code",
   "execution_count": null,
   "metadata": {},
   "outputs": [],
   "source": [
    "iterable datatype:\n",
    "    list\n",
    "    tuple\n",
    "    dict\n",
    "    str\n",
    "    set\n",
    "not iterable datatype\n",
    "  int\n",
    "  float"
   ]
  },
  {
   "cell_type": "code",
   "execution_count": 5,
   "metadata": {},
   "outputs": [
    {
     "name": "stdout",
     "output_type": "stream",
     "text": [
      "p\n",
      "y\n",
      "t\n",
      "h\n",
      "o\n",
      "n\n",
      " \n",
      "s\n",
      "a\n",
      "m\n",
      "p\n",
      "l\n",
      "e\n",
      " \n",
      "s\n",
      "t\n",
      "r\n",
      "i\n",
      "n\n",
      "g\n"
     ]
    }
   ],
   "source": [
    "s = \"python sample string\"\n",
    "for i in s:\n",
    "    print(i)"
   ]
  },
  {
   "cell_type": "code",
   "execution_count": 8,
   "metadata": {},
   "outputs": [
    {
     "name": "stdout",
     "output_type": "stream",
     "text": [
      "p\n",
      "y\n",
      "t\n",
      "h\n",
      "o\n",
      "n\n",
      " \n",
      "s\n",
      "a\n",
      "m\n",
      "p\n",
      "l\n",
      "e\n",
      " \n",
      "s\n",
      "t\n",
      "r\n",
      "i\n",
      "n\n",
      "g\n"
     ]
    }
   ],
   "source": [
    "for i in \"python sample string\":\n",
    "    print(i)"
   ]
  },
  {
   "cell_type": "code",
   "execution_count": 13,
   "metadata": {},
   "outputs": [
    {
     "name": "stdout",
     "output_type": "stream",
     "text": [
      "name\n",
      "lastname\n",
      "id\n"
     ]
    }
   ],
   "source": [
    "d = {\"name\":\"john\",\"lastname\":\"calay\",\"id\":56}\n",
    "for y in d:\n",
    "    print(y)"
   ]
  },
  {
   "cell_type": "code",
   "execution_count": 10,
   "metadata": {},
   "outputs": [
    {
     "name": "stdout",
     "output_type": "stream",
     "text": [
      "name\n",
      "lastname\n",
      "id\n"
     ]
    }
   ],
   "source": [
    "d = {\"name\":\"john\",\"lastname\":\"calay\",\"id\":56}\n",
    "for x in d:\n",
    "    print(x)"
   ]
  },
  {
   "cell_type": "code",
   "execution_count": null,
   "metadata": {},
   "outputs": [],
   "source": [
    "l = [10,20,30,40,50]"
   ]
  },
  {
   "cell_type": "code",
   "execution_count": null,
   "metadata": {},
   "outputs": [],
   "source": [
    "sum = 0\n",
    "num1 = 10\n",
    "sum = 0 + 10 = 10\n",
    "\n",
    "num2 = 20\n",
    "sum  = 10 + 20 = 30\n",
    "\n",
    "num3 = 30\n",
    "sum = 30 + 30 = 60\n",
    "\n",
    "num4 = 40\n",
    "sum = 60 + 40 = 100\n",
    "\n",
    "num5 = 50\n",
    "sum = 100 + 50 = 150\n",
    "\n"
   ]
  },
  {
   "cell_type": "code",
   "execution_count": 15,
   "metadata": {},
   "outputs": [
    {
     "name": "stdout",
     "output_type": "stream",
     "text": [
      "10\n",
      "30\n",
      "60\n",
      "100\n",
      "150\n"
     ]
    }
   ],
   "source": [
    "sum = 0\n",
    "l = [10,20,30,40,50]\n",
    "for value in l:\n",
    "    sum  = sum + value\n",
    "print(sum)\n",
    "    "
   ]
  },
  {
   "cell_type": "code",
   "execution_count": 16,
   "metadata": {},
   "outputs": [
    {
     "data": {
      "text/plain": [
       "range(0, 10)"
      ]
     },
     "execution_count": 16,
     "metadata": {},
     "output_type": "execute_result"
    }
   ],
   "source": [
    "range(10)"
   ]
  },
  {
   "cell_type": "code",
   "execution_count": null,
   "metadata": {},
   "outputs": [],
   "source": [
    "range(10)  0....9\n",
    "range (50,60) 50....59\n",
    "range(10,30,5) 10,15,20,25...."
   ]
  },
  {
   "cell_type": "code",
   "execution_count": 17,
   "metadata": {},
   "outputs": [
    {
     "name": "stdout",
     "output_type": "stream",
     "text": [
      "0\n",
      "1\n",
      "2\n",
      "3\n",
      "4\n",
      "5\n",
      "6\n",
      "7\n",
      "8\n",
      "9\n",
      "10\n",
      "11\n",
      "12\n",
      "13\n",
      "14\n",
      "15\n",
      "16\n",
      "17\n",
      "18\n",
      "19\n"
     ]
    }
   ],
   "source": [
    "for i in range(20):\n",
    "    print(i)"
   ]
  },
  {
   "cell_type": "code",
   "execution_count": 18,
   "metadata": {},
   "outputs": [
    {
     "name": "stdout",
     "output_type": "stream",
     "text": [
      "10\n",
      "11\n",
      "12\n",
      "13\n",
      "14\n",
      "15\n",
      "16\n",
      "17\n",
      "18\n",
      "19\n",
      "20\n",
      "21\n",
      "22\n",
      "23\n",
      "24\n",
      "25\n",
      "26\n",
      "27\n",
      "28\n",
      "29\n",
      "30\n",
      "31\n",
      "32\n",
      "33\n",
      "34\n",
      "35\n",
      "36\n",
      "37\n",
      "38\n",
      "39\n",
      "40\n",
      "41\n",
      "42\n",
      "43\n",
      "44\n",
      "45\n",
      "46\n",
      "47\n",
      "48\n",
      "49\n",
      "50\n",
      "51\n",
      "52\n",
      "53\n",
      "54\n",
      "55\n",
      "56\n",
      "57\n",
      "58\n",
      "59\n"
     ]
    }
   ],
   "source": [
    "for value in range(10, 60):\n",
    "    print(value)"
   ]
  },
  {
   "cell_type": "code",
   "execution_count": 19,
   "metadata": {},
   "outputs": [
    {
     "name": "stdout",
     "output_type": "stream",
     "text": [
      "20\n",
      "28\n",
      "36\n",
      "44\n",
      "52\n",
      "60\n",
      "68\n",
      "76\n",
      "84\n"
     ]
    }
   ],
   "source": [
    "for value in range(20,90,8):\n",
    "    print(value)"
   ]
  },
  {
   "cell_type": "code",
   "execution_count": null,
   "metadata": {},
   "outputs": [],
   "source": [
    "create a table for 5 "
   ]
  },
  {
   "cell_type": "code",
   "execution_count": 20,
   "metadata": {},
   "outputs": [
    {
     "name": "stdout",
     "output_type": "stream",
     "text": [
      "5\n",
      "10\n",
      "15\n",
      "20\n",
      "25\n",
      "30\n",
      "35\n",
      "40\n",
      "45\n",
      "50\n"
     ]
    }
   ],
   "source": [
    "for value in range(5,55,5):\n",
    "    print(value)"
   ]
  },
  {
   "cell_type": "code",
   "execution_count": null,
   "metadata": {},
   "outputs": [],
   "source": [
    "s =\"python sample string\"\n",
    "vowel_count\n",
    "consonent_count "
   ]
  },
  {
   "cell_type": "code",
   "execution_count": 4,
   "metadata": {},
   "outputs": [
    {
     "name": "stdout",
     "output_type": "stream",
     "text": [
      "vowel 4\n",
      "consonent 14\n"
     ]
    }
   ],
   "source": [
    "s = \"python sAmple string\"\n",
    "vowel = \"aeiouAEIOU\"\n",
    "space = \" \"\n",
    "v = 0\n",
    "c = 0\n",
    "sp = 0\n",
    "for value in s:\n",
    "    if value in vowel:\n",
    "        v+=1\n",
    "    elif value in space:\n",
    "        sp += 1\n",
    "    else:\n",
    "        c+=1\n",
    "print(\"vowel\",v)\n",
    "print(\"consonent\",c)"
   ]
  },
  {
   "cell_type": "code",
   "execution_count": null,
   "metadata": {},
   "outputs": [],
   "source": [
    "1. given two numbers, print their sum. However , if the two numbers are the same , return double their sum ."
   ]
  },
  {
   "cell_type": "code",
   "execution_count": null,
   "metadata": {
    "collapsed": true
   },
   "outputs": [],
   "source": [
    "2.Given a cost price and selling price of a product write program to calculate profit or loss.\n"
   ]
  },
  {
   "cell_type": "code",
   "execution_count": 7,
   "metadata": {},
   "outputs": [
    {
     "name": "stdout",
     "output_type": "stream",
     "text": [
      "Sum of given number =  400\n"
     ]
    }
   ],
   "source": [
    "a = 200\n",
    "b = 200\n",
    "if a != b :\n",
    "    ans = a + b\n",
    "else :\n",
    "    ans = a * 2\n",
    "print(\"Sum of given number = \",ans)"
   ]
  },
  {
   "cell_type": "code",
   "execution_count": 9,
   "metadata": {},
   "outputs": [
    {
     "name": "stdout",
     "output_type": "stream",
     "text": [
      "loss of rs  -50\n"
     ]
    }
   ],
   "source": [
    "cost_p = 100\n",
    "selling_p = 50\n",
    "ans = selling_p - cost_p\n",
    "if cost_p <= selling_p:\n",
    "    print(\"Profit of rs\", ans)\n",
    "else:\n",
    "    print(\"loss of rs \", ans)"
   ]
  },
  {
   "cell_type": "code",
   "execution_count": 10,
   "metadata": {},
   "outputs": [
    {
     "name": "stdout",
     "output_type": "stream",
     "text": [
      "Loss of : 100\n"
     ]
    }
   ],
   "source": [
    "cost_price = 200\n",
    "selling_price = 100\n",
    "\n",
    "if selling_price > cost_price:\n",
    "    print(\"Profit of :\",selling_price - cost_price)\n",
    "elif cost_price > selling_price:\n",
    "    print(\"Loss of :\", cost_price - selling_price)\n",
    "else:\n",
    "    print(\"No prifit No loss\")"
   ]
  },
  {
   "cell_type": "code",
   "execution_count": null,
   "metadata": {},
   "outputs": [],
   "source": [
    "l = [10,20,30,40,50,-78,90,100]"
   ]
  },
  {
   "cell_type": "code",
   "execution_count": 1,
   "metadata": {},
   "outputs": [
    {
     "name": "stdout",
     "output_type": "stream",
     "text": [
      "-78\n"
     ]
    }
   ],
   "source": [
    "l=[10,20,30,40,50,-78,90,100]\n",
    "for i in l:\n",
    "    if i<0:\n",
    "        print(i)\n"
   ]
  },
  {
   "cell_type": "code",
   "execution_count": null,
   "metadata": {},
   "outputs": [],
   "source": [
    "l = [10,20,30,50,60]\n",
    "key = 40"
   ]
  },
  {
   "cell_type": "markdown",
   "metadata": {},
   "source": [
    "l = [10,20,30,50,60]\n",
    "key = 30\n",
    "for value in l:\n",
    "    if value == key:\n",
    "        print(\"key is present\",key)\n",
    " else:\n",
    "        print(\"key is not present\")"
   ]
  },
  {
   "cell_type": "code",
   "execution_count": 12,
   "metadata": {},
   "outputs": [
    {
     "name": "stdout",
     "output_type": "stream",
     "text": [
      "key is not present\n"
     ]
    }
   ],
   "source": [
    "l = [10,20,30,40]\n",
    "key = 50\n",
    "for value in l:\n",
    "    if value == key:\n",
    "        print(\"key is present\")\n",
    "else:\n",
    "    print(\"key is not present\")\n",
    "    "
   ]
  },
  {
   "cell_type": "code",
   "execution_count": null,
   "metadata": {},
   "outputs": [],
   "source": [
    "pass \n",
    "break\n",
    "continue"
   ]
  },
  {
   "cell_type": "code",
   "execution_count": 14,
   "metadata": {},
   "outputs": [
    {
     "name": "stdout",
     "output_type": "stream",
     "text": [
      "10\n",
      "20\n",
      "30\n",
      "40\n",
      "50\n",
      "60\n",
      "number is negative: -89\n"
     ]
    }
   ],
   "source": [
    "l = [10,20,30,40,50,60,-89,20,70,99]\n",
    "for value in l:\n",
    "    if value <0 :\n",
    "        print(\"number is negative:\",value)\n",
    "        break\n",
    "        print(\"abcd\")\n",
    "    else:\n",
    "        print(value)"
   ]
  },
  {
   "cell_type": "code",
   "execution_count": 4,
   "metadata": {},
   "outputs": [
    {
     "name": "stdout",
     "output_type": "stream",
     "text": [
      "hi\n"
     ]
    }
   ],
   "source": [
    "if \"hi\":\n",
    "    print(\"hi\")\n",
    "else:\n",
    "    pass\n",
    "    print(\"hello\")"
   ]
  },
  {
   "cell_type": "code",
   "execution_count": null,
   "metadata": {},
   "outputs": [],
   "source": [
    "s = \"Python sample string\"\n",
    "vowel_count \n",
    "consonent_count"
   ]
  },
  {
   "cell_type": "code",
   "execution_count": 5,
   "metadata": {},
   "outputs": [
    {
     "ename": "SyntaxError",
     "evalue": "invalid syntax (<ipython-input-5-eca77506cecf>, line 1)",
     "output_type": "error",
     "traceback": [
      "\u001b[1;36m  File \u001b[1;32m\"<ipython-input-5-eca77506cecf>\"\u001b[1;36m, line \u001b[1;32m1\u001b[0m\n\u001b[1;33m    if s = \"Python sample string\" :\u001b[0m\n\u001b[1;37m         ^\u001b[0m\n\u001b[1;31mSyntaxError\u001b[0m\u001b[1;31m:\u001b[0m invalid syntax\n"
     ]
    }
   ],
   "source": [
    "if s = \"Python sample string\" :\n",
    "        print(\"vowel count\")\n",
    "else : \n",
    "        pass\n",
    "        print(\"consonent count\")"
   ]
  },
  {
   "cell_type": "code",
   "execution_count": 11,
   "metadata": {},
   "outputs": [
    {
     "name": "stdout",
     "output_type": "stream",
     "text": [
      "Total no of vowels : 4\n",
      "Total no of consonents: 14\n"
     ]
    }
   ],
   "source": [
    "s = \"Python sample string\"\n",
    "vowel_count = 0\n",
    "consonent_count = 0\n",
    "\n",
    "for value in s:\n",
    "    if value in \"aeiouAEIOU\":\n",
    "        vowel_count +=1\n",
    "    elif value == \" \":\n",
    "        continue\n",
    "    else:\n",
    "        consonent_count+=1\n",
    "        \n",
    "print(\"Total no of vowels :\",vowel_count)\n",
    "print(\"Total no of consonents:\",consonent_count)\n"
   ]
  },
  {
   "cell_type": "code",
   "execution_count": 12,
   "metadata": {},
   "outputs": [
    {
     "name": "stdout",
     "output_type": "stream",
     "text": [
      "6\n"
     ]
    }
   ],
   "source": [
    "l = [10,20,30,40,50,60]\n",
    "print(len(l))"
   ]
  },
  {
   "cell_type": "code",
   "execution_count": 13,
   "metadata": {},
   "outputs": [
    {
     "name": "stdout",
     "output_type": "stream",
     "text": [
      "60\n"
     ]
    }
   ],
   "source": [
    "l = [10,20,30,40,50,60,70,80,90]\n",
    "print(l[5])\n"
   ]
  },
  {
   "cell_type": "code",
   "execution_count": null,
   "metadata": {},
   "outputs": [],
   "source": [
    "l = [10,20,30,40,50,60,70,80,90]\n"
   ]
  },
  {
   "cell_type": "code",
   "execution_count": null,
   "metadata": {},
   "outputs": [],
   "source": [
    "enumerate will give you both value and index"
   ]
  },
  {
   "cell_type": "code",
   "execution_count": 15,
   "metadata": {},
   "outputs": [
    {
     "name": "stdout",
     "output_type": "stream",
     "text": [
      "0 10\n",
      "1 20\n",
      "2 30\n",
      "3 40\n",
      "4 50\n",
      "5 60\n",
      "6 70\n",
      "7 80\n",
      "8 90\n"
     ]
    }
   ],
   "source": [
    "l = [10,20,30,40,50,60,70,80,90]\n",
    "for index,value in enumerate(l):\n",
    "    print(index,value)"
   ]
  },
  {
   "cell_type": "code",
   "execution_count": 16,
   "metadata": {},
   "outputs": [
    {
     "name": "stdout",
     "output_type": "stream",
     "text": [
      "0 P\n",
      "1 y\n",
      "2 t\n",
      "3 h\n",
      "4 o\n",
      "5 n\n"
     ]
    }
   ],
   "source": [
    "s = \"Python\"\n",
    "for index,value in enumerate(s):\n",
    "    print(index,value)"
   ]
  },
  {
   "cell_type": "code",
   "execution_count": null,
   "metadata": {},
   "outputs": [],
   "source": [
    "check given number is perfect or not: \n",
    "    6 : 1 ,2 ,3 \n",
    "6 : 1 , 2,3,4,5\n"
   ]
  },
  {
   "cell_type": "code",
   "execution_count": 17,
   "metadata": {},
   "outputs": [
    {
     "name": "stdout",
     "output_type": "stream",
     "text": [
      "1\n",
      "3\n",
      "6\n",
      "6  is perfect number\n"
     ]
    }
   ],
   "source": [
    "num = 68890\n",
    "l = [1,2,3,4,5]\n",
    "sum=0\n",
    "for value in l:\n",
    "    if num%value==0:\n",
    "        sum += value\n",
    "        print(sum)\n",
    "else:\n",
    "    sum == num\n",
    "    print(num,\" is perfect number\")"
   ]
  },
  {
   "cell_type": "code",
   "execution_count": 22,
   "metadata": {},
   "outputs": [],
   "source": [
    "num1 = 89\n",
    "sum = 0\n",
    "for value in range(1,num1):\n",
    "    if num1 % value == 0:\n",
    "        sum = sum + value\n",
    "if sum == num1:\n",
    "    print(\"Perfect number\")\n",
    "else:\n",
    "    (\"Not Perfecr number\")"
   ]
  },
  {
   "cell_type": "code",
   "execution_count": 23,
   "metadata": {},
   "outputs": [],
   "source": [
    "num1 = 89\n",
    "sum = 0\n",
    "for value in range(1,num1):\n",
    "    if num1 % value == 0:\n",
    "        sum = sum + value\n",
    "if sum == num1:\n",
    "    print(\"Perfect number\")\n",
    "else:\n",
    "    (\"Not Perfecr number\")"
   ]
  },
  {
   "cell_type": "code",
   "execution_count": 5,
   "metadata": {},
   "outputs": [
    {
     "name": "stdout",
     "output_type": "stream",
     "text": [
      "Not Perfecr number\n"
     ]
    }
   ],
   "source": [
    "num1 = 89\n",
    "sum = 0\n",
    "for value in range(1,num1):\n",
    "    if num1 % value == 0:\n",
    "        sum = sum + value\n",
    "if sum == num1:\n",
    "    print(\"Perfect number\")\n",
    "else:\n",
    "    print(\"Not Perfect number\")"
   ]
  },
  {
   "cell_type": "code",
   "execution_count": 4,
   "metadata": {},
   "outputs": [
    {
     "name": "stdout",
     "output_type": "stream",
     "text": [
      "jk\n"
     ]
    }
   ],
   "source": [
    "print(\"jk\")"
   ]
  },
  {
   "cell_type": "code",
   "execution_count": null,
   "metadata": {},
   "outputs": [],
   "source": [
    "working with nested for loop"
   ]
  },
  {
   "cell_type": "code",
   "execution_count": 8,
   "metadata": {},
   "outputs": [
    {
     "name": "stdout",
     "output_type": "stream",
     "text": [
      "1\n",
      "2\n",
      "3\n",
      "4\n",
      "5\n",
      "6\n",
      "7\n",
      "8\n",
      "9\n",
      "10\n",
      "2\n",
      "4\n",
      "6\n",
      "8\n",
      "10\n",
      "12\n",
      "14\n",
      "16\n",
      "18\n",
      "20\n",
      "3\n",
      "6\n",
      "9\n",
      "12\n",
      "15\n",
      "18\n",
      "21\n",
      "24\n",
      "27\n",
      "30\n",
      "4\n",
      "8\n",
      "12\n",
      "16\n",
      "20\n",
      "24\n",
      "28\n",
      "32\n",
      "36\n",
      "40\n",
      "5\n",
      "10\n",
      "15\n",
      "20\n",
      "25\n",
      "30\n",
      "35\n",
      "40\n",
      "45\n",
      "50\n"
     ]
    }
   ],
   "source": [
    "for value1 in range(1,6):\n",
    "    for value2 in range(1,11):\n",
    "        print(value1 * value2)"
   ]
  },
  {
   "cell_type": "code",
   "execution_count": null,
   "metadata": {},
   "outputs": [],
   "source": [
    "while \n",
    "\n",
    "while condition => True,False:\n",
    "    statements\n",
    "    statements"
   ]
  },
  {
   "cell_type": "code",
   "execution_count": null,
   "metadata": {},
   "outputs": [],
   "source": [
    "find a factorial :\n",
    "    5 : 5 * 4 *3 * 2 *1 "
   ]
  },
  {
   "cell_type": "code",
   "execution_count": 15,
   "metadata": {},
   "outputs": [
    {
     "name": "stdout",
     "output_type": "stream",
     "text": [
      "120\n"
     ]
    }
   ],
   "source": [
    "num1 = 5\n",
    "result = 1\n",
    "while num1>1:\n",
    "    result = result * num1\n",
    "    num1 = num1 -1\n",
    "print(result)"
   ]
  },
  {
   "cell_type": "code",
   "execution_count": 14,
   "metadata": {},
   "outputs": [
    {
     "name": "stdout",
     "output_type": "stream",
     "text": [
      "210\n"
     ]
    }
   ],
   "source": [
    "count = 1\n",
    "sum = 0\n",
    "\n",
    "while count<=20:\n",
    "    sum = sum +count\n",
    "    count = count+1\n",
    "print(sum)"
   ]
  },
  {
   "cell_type": "code",
   "execution_count": null,
   "metadata": {},
   "outputs": [],
   "source": [
    "write a program to check whether triangle is equilateral, scalene or isosceles :\n",
    "    \n",
    "    1.A triangle is said Equilateral triangle if all sides are equal.\n",
    "    2.A triangle is isosceles   a==b or b==c or a== c (if two sides are equal)\n",
    "    3.A scalene all sides are different\n",
    "    \n",
    "    \n",
    "    side_a = 10\n",
    "    side_b = 30\n",
    "    side_c = 20"
   ]
  },
  {
   "cell_type": "code",
   "execution_count": null,
   "metadata": {},
   "outputs": [],
   "source": [
    "if\n",
    "elif\n",
    "else"
   ]
  },
  {
   "cell_type": "code",
   "execution_count": 5,
   "metadata": {},
   "outputs": [
    {
     "name": "stdout",
     "output_type": "stream",
     "text": [
      "It is an equilateral triangle\n"
     ]
    }
   ],
   "source": [
    "side_a = 10\n",
    "side_b = 10\n",
    "side_c = 10\n",
    "if side_a == side_b == side_c:\n",
    "    print(\"It is an equilateral triangle\")\n",
    "elif side_a == side_b or side_a == side_c or side_c == side_b:\n",
    "    print(\"It is an Issosceles triangle\")\n",
    "else:\n",
    "    print(\"It is a scelene triangle\")"
   ]
  },
  {
   "cell_type": "code",
   "execution_count": null,
   "metadata": {},
   "outputs": [],
   "source": [
    "sides_of_triangle = (a,b,c)\n",
    "for value in sides_of_triangle \n",
    "if value in \"a=b=c\":\n",
    "     print (equilateral triangle)\n",
    "elif value == (\"a=b, b=c, c=a)\n",
    "     print (isosceles triangle)\n",
    " else :\n",
    "     print (scalene triangle)"
   ]
  },
  {
   "cell_type": "code",
   "execution_count": null,
   "metadata": {},
   "outputs": [],
   "source": [
    "3. write a program to input basic salary of an employee and calculate gross salary according to given condition:\n",
    "    \n",
    "    Basic salary <= 10000 : HRA = 20%, DA = 80%, \n",
    "        \n",
    "                 between  10001 to 20000 : HRA = 25% , DA = 90% \n",
    "                 \n",
    "                between >= 20001 : HRA = 35% , DA = 95% \n",
    "                    \n",
    "                    hra = (basic_salary * 20)/100\n",
    "                    da = (basic_salary * 80)/100\n",
    "                    \n",
    "    gross = basic + hra + da"
   ]
  },
  {
   "cell_type": "code",
   "execution_count": 6,
   "metadata": {},
   "outputs": [
    {
     "name": "stdout",
     "output_type": "stream",
     "text": [
      "20000\n"
     ]
    }
   ],
   "source": [
    "basic_salary = int(input())"
   ]
  },
  {
   "cell_type": "code",
   "execution_count": 10,
   "metadata": {},
   "outputs": [
    {
     "name": "stdout",
     "output_type": "stream",
     "text": [
      "50000\n",
      "115000.0\n"
     ]
    }
   ],
   "source": [
    "basic_salary = int(input())\n",
    "if basic_salary <= 10000:\n",
    "    hra = (basic_salary *20)/100\n",
    "    da = (basic_salary * 80)/100\n",
    "elif basic_salary in range(10001,20001):\n",
    "    hra = (basic_salary *25)/100\n",
    "    da = (basic_salary * 90)/100\n",
    "else:\n",
    "    hra = (basic_salary *35)/100\n",
    "    da = (basic_salary * 95)/100\n",
    "gross_salary = basic_salary + hra + da\n",
    "print(gross_salary)"
   ]
  }
 ],
 "metadata": {
  "kernelspec": {
   "display_name": "Python 3",
   "language": "python",
   "name": "python3"
  },
  "language_info": {
   "codemirror_mode": {
    "name": "ipython",
    "version": 3
   },
   "file_extension": ".py",
   "mimetype": "text/x-python",
   "name": "python",
   "nbconvert_exporter": "python",
   "pygments_lexer": "ipython3",
   "version": "3.7.8"
  }
 },
 "nbformat": 4,
 "nbformat_minor": 2
}
